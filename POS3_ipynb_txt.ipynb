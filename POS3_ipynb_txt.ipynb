{
  "nbformat": 4,
  "nbformat_minor": 0,
  "metadata": {
    "kernelspec": {
      "display_name": "Python 3",
      "language": "python",
      "name": "python3"
    },
    "language_info": {
      "codemirror_mode": {
        "name": "ipython",
        "version": 3
      },
      "file_extension": ".py",
      "mimetype": "text/x-python",
      "name": "python",
      "nbconvert_exporter": "python",
      "pygments_lexer": "ipython3",
      "version": "3.8.3"
    },
    "colab": {
      "name": "POS3.ipynb.txt",
      "provenance": []
    }
  },
  "cells": [
    {
      "cell_type": "markdown",
      "metadata": {
        "id": "jCy6Hw3LjXEz"
      },
      "source": [
        "## Importing libraries"
      ]
    },
    {
      "cell_type": "code",
      "metadata": {
        "id": "MBorzfsNjXE0"
      },
      "source": [
        "import pandas as pd\n",
        "import numpy as np\n",
        "import os\n",
        "import spacy \n",
        "from tqdm import tqdm"
      ],
      "execution_count": null,
      "outputs": []
    },
    {
      "cell_type": "markdown",
      "metadata": {
        "id": "gjlVHS9yjXE1"
      },
      "source": [
        "### Read reviews data"
      ]
    },
    {
      "cell_type": "code",
      "metadata": {
        "id": "unZvzHyPjXE2"
      },
      "source": [
        "con=open(\"../data/Samsung.txt\",'r', encoding=\"utf-8\")\n",
        "samsung_reviews=con.read()\n",
        "con.close()"
      ],
      "execution_count": null,
      "outputs": []
    },
    {
      "cell_type": "markdown",
      "metadata": {
        "id": "-Xp3V0sijXE4"
      },
      "source": [
        "### Can we reduce the time taken?\n",
        "[Pipelines (Spacy)](https://spacy.io/usage/processing-pipelines)\n"
      ]
    },
    {
      "cell_type": "markdown",
      "metadata": {
        "id": "hcz71QGCjXE5"
      },
      "source": [
        "<img src='./images/spacy_pipeline.png'>"
      ]
    },
    {
      "cell_type": "code",
      "metadata": {
        "id": "fStfPPgCjXE6"
      },
      "source": [
        "# shorten the pipline loading\n",
        "nlp=spacy.load('en_core_web_sm',disable=['parser','ner'])"
      ],
      "execution_count": null,
      "outputs": []
    },
    {
      "cell_type": "code",
      "metadata": {
        "id": "dx3Ylbe5jXE6",
        "outputId": "2c44d403-1088-4268-f062-98bf412fbab7"
      },
      "source": [
        "nouns = []\n",
        "for review in tqdm(samsung_reviews.split(\"\\n\")[0:1000]):\n",
        "    doc = nlp(review)\n",
        "    for tok in doc:\n",
        "        if tok.pos_==\"NOUN\":\n",
        "            nouns.append(tok.lemma_.lower())"
      ],
      "execution_count": null,
      "outputs": [
        {
          "output_type": "stream",
          "text": [
            "100%|██████████| 1000/1000 [00:06<00:00, 148.24it/s]\n"
          ],
          "name": "stderr"
        }
      ]
    },
    {
      "cell_type": "code",
      "metadata": {
        "id": "2KmwyyX-jXE8"
      },
      "source": [
        "len(samsung_reviews.split(\"\\n\"))"
      ],
      "execution_count": null,
      "outputs": []
    },
    {
      "cell_type": "code",
      "metadata": {
        "id": "XUf8-pG1jXE9",
        "outputId": "288bda64-52b2-48dc-ce1d-bcecf596c39f"
      },
      "source": [
        "(46355/1000)*6"
      ],
      "execution_count": null,
      "outputs": [
        {
          "output_type": "execute_result",
          "data": {
            "text/plain": [
              "278.13"
            ]
          },
          "metadata": {
            "tags": []
          },
          "execution_count": 5
        }
      ]
    },
    {
      "cell_type": "code",
      "metadata": {
        "id": "nX83oQevjXE9",
        "outputId": "095ef791-0bd5-4310-dc03-00fba9af3a33"
      },
      "source": [
        "278/60"
      ],
      "execution_count": null,
      "outputs": [
        {
          "output_type": "execute_result",
          "data": {
            "text/plain": [
              "4.633333333333334"
            ]
          },
          "metadata": {
            "tags": []
          },
          "execution_count": 6
        }
      ]
    },
    {
      "cell_type": "markdown",
      "metadata": {
        "id": "-qZDcM2njXE-"
      },
      "source": [
        "### Lets process all the reviews now and see if time taken is less !!!"
      ]
    },
    {
      "cell_type": "code",
      "metadata": {
        "id": "KiftxQmcjXE-",
        "outputId": "1f035757-c703-4fd5-fc25-14b99efeca8f"
      },
      "source": [
        "nouns = []\n",
        "for review in tqdm(samsung_reviews.split(\"\\n\")):\n",
        "    doc = nlp(review)\n",
        "    for tok in doc:\n",
        "        if tok.pos_==\"NOUN\":\n",
        "            nouns.append(tok.lemma_.lower())"
      ],
      "execution_count": null,
      "outputs": [
        {
          "output_type": "stream",
          "text": [
            "100%|██████████| 46355/46355 [04:27<00:00, 173.42it/s]\n"
          ],
          "name": "stderr"
        }
      ]
    },
    {
      "cell_type": "markdown",
      "metadata": {
        "id": "4tDq-KDOjXE_"
      },
      "source": [
        "### Does the hypothesis of nouns capturing `product features` hold?"
      ]
    },
    {
      "cell_type": "code",
      "metadata": {
        "id": "f_9BsBMvjXFA",
        "outputId": "04060afd-fb64-4c84-e55f-eaba0cc85446"
      },
      "source": [
        "nouns=pd.Series(nouns)\n",
        "nouns.value_counts().head(5)"
      ],
      "execution_count": null,
      "outputs": [
        {
          "output_type": "execute_result",
          "data": {
            "text/plain": [
              "phone      43237\n",
              "battery     4350\n",
              "product     3907\n",
              "time        3825\n",
              "screen      3746\n",
              "dtype: int64"
            ]
          },
          "metadata": {
            "tags": []
          },
          "execution_count": 8
        }
      ]
    },
    {
      "cell_type": "code",
      "metadata": {
        "id": "7g33CJOXjXFA",
        "outputId": "525c082f-6d7e-4755-997f-13d2b8cddfb9"
      },
      "source": [
        "nouns.value_counts().head(10)"
      ],
      "execution_count": null,
      "outputs": [
        {
          "output_type": "execute_result",
          "data": {
            "text/plain": [
              "phone      43237\n",
              "battery     4350\n",
              "product     3907\n",
              "time        3825\n",
              "screen      3746\n",
              "card        3399\n",
              "price       3148\n",
              "problem     3120\n",
              "camera      2773\n",
              "app         2606\n",
              "dtype: int64"
            ]
          },
          "metadata": {
            "tags": []
          },
          "execution_count": 9
        }
      ]
    },
    {
      "cell_type": "markdown",
      "metadata": {
        "id": "qlp6FvUMjXFB"
      },
      "source": [
        "### We now know that people mention `battery`, `product`, `screen` etc. But we still don't know in what context they mention these keywords"
      ]
    },
    {
      "cell_type": "markdown",
      "metadata": {
        "id": "zurzvf_tjXFB"
      },
      "source": [
        "### Summary:\n",
        " - Most frequently used lemmatised forms of noun, inform us about the product features people are talking about in product reviews\n",
        " - In order to process the review data faster spacy allows us to use the idea of enabling parts of model inference pipeline via `spacy.loads()` command and `disable` parameter"
      ]
    },
    {
      "cell_type": "code",
      "metadata": {
        "id": "qmCWc_9vjXFC"
      },
      "source": [
        ""
      ],
      "execution_count": null,
      "outputs": []
    }
  ]
}