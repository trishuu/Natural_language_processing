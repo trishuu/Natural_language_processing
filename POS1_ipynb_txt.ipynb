{
  "nbformat": 4,
  "nbformat_minor": 0,
  "metadata": {
    "kernelspec": {
      "display_name": "Python 3",
      "language": "python",
      "name": "python3"
    },
    "language_info": {
      "codemirror_mode": {
        "name": "ipython",
        "version": 3
      },
      "file_extension": ".py",
      "mimetype": "text/x-python",
      "name": "python",
      "nbconvert_exporter": "python",
      "pygments_lexer": "ipython3",
      "version": "3.8.3"
    },
    "colab": {
      "name": "POS1_ipynb_txt.ipynb",
      "provenance": []
    }
  },
  "cells": [
    {
      "cell_type": "markdown",
      "metadata": {
        "id": "OKcXwoZHurtB"
      },
      "source": [
        "## Importing libraries"
      ]
    },
    {
      "cell_type": "code",
      "metadata": {
        "id": "r5zWwc1_urtR"
      },
      "source": [
        "import pandas as pd\n",
        "import numpy as np\n",
        "import os"
      ],
      "execution_count": null,
      "outputs": []
    },
    {
      "cell_type": "markdown",
      "metadata": {
        "id": "Bd28EuN3urtT"
      },
      "source": [
        "### How do we identify product features?\n",
        "<img src = \"./images/keywords.png\">"
      ]
    },
    {
      "cell_type": "code",
      "metadata": {
        "id": "5zP8A4ysurtU"
      },
      "source": [
        "sent1 = \"I loved the screen on this phone.\"\n",
        "sent2 = \"The battery life on this phone is great.\"\n",
        "sent3 = \"The speakers are pathetic.\""
      ],
      "execution_count": null,
      "outputs": []
    },
    {
      "cell_type": "markdown",
      "metadata": {
        "id": "CT_yMlbiurtV"
      },
      "source": [
        "### Lets do a POS parse and see if we can figure out some patterns."
      ]
    },
    {
      "cell_type": "code",
      "metadata": {
        "id": "XYXVM2CrurtW"
      },
      "source": [
        "import spacy \n",
        "nlp = spacy.load(\"en_core_web_sm\")"
      ],
      "execution_count": null,
      "outputs": []
    },
    {
      "cell_type": "code",
      "metadata": {
        "id": "kD53XzhEurtX",
        "outputId": "c4e2e3eb-0c29-4ec0-be3b-feef37646d59"
      },
      "source": [
        "doc1 = nlp(sent1)\n",
        "for tok in doc1:\n",
        "    print(tok.text,tok.pos_)"
      ],
      "execution_count": null,
      "outputs": [
        {
          "output_type": "stream",
          "text": [
            "I PRON\n",
            "loved VERB\n",
            "the DET\n",
            "screen NOUN\n",
            "on ADP\n",
            "this DET\n",
            "phone NOUN\n",
            ". PUNCT\n"
          ],
          "name": "stdout"
        }
      ]
    },
    {
      "cell_type": "code",
      "metadata": {
        "id": "RAHWa3uturtZ",
        "outputId": "1e9d3adf-857f-4343-8a71-296fc7340a6d"
      },
      "source": [
        "doc2 = nlp(sent2)\n",
        "for tok in doc2:\n",
        "    print(tok.text,tok.pos_)"
      ],
      "execution_count": null,
      "outputs": [
        {
          "output_type": "stream",
          "text": [
            "The DET\n",
            "battery NOUN\n",
            "life NOUN\n",
            "on ADP\n",
            "this DET\n",
            "phone NOUN\n",
            "is AUX\n",
            "great ADJ\n",
            ". PUNCT\n"
          ],
          "name": "stdout"
        }
      ]
    },
    {
      "cell_type": "code",
      "metadata": {
        "id": "5z-Q-Rakurta",
        "outputId": "93b1956a-2d1a-453b-bc85-896a1a1018bc"
      },
      "source": [
        "doc3 = nlp(sent3)\n",
        "for tok in doc3:\n",
        "    print(tok.text,tok.pos_)"
      ],
      "execution_count": null,
      "outputs": [
        {
          "output_type": "stream",
          "text": [
            "The DET\n",
            "speakers NOUN\n",
            "are AUX\n",
            "pathetic ADJ\n",
            ". PUNCT\n"
          ],
          "name": "stdout"
        }
      ]
    },
    {
      "cell_type": "markdown",
      "metadata": {
        "id": "EWh298c3urte"
      },
      "source": [
        "#### **Product features such as `screen`, `battery`, `speaker` have a POS tag of NOUN**"
      ]
    },
    {
      "cell_type": "markdown",
      "metadata": {
        "id": "XrtRHVfUurtf"
      },
      "source": [
        "## Summary\n",
        "- Product features such as `screen`, `battery` and `speaker` have a POS tag of Noun\n",
        "- If we can find the frequency count of all the nouns in our data, then by looking at top-n nouns we can find out what product features people are talking about\n",
        "- Check hypothesis on a real world dataset"
      ]
    },
    {
      "cell_type": "code",
      "metadata": {
        "id": "tmqDwHWBurtg"
      },
      "source": [
        ""
      ],
      "execution_count": null,
      "outputs": []
    }
  ]
}