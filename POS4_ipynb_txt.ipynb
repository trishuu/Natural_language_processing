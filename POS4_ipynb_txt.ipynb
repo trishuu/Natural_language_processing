{
 "cells": [
  {
   "cell_type": "markdown",
   "metadata": {
    "id": "Y5Sb0P3lv2wM"
   },
   "source": [
    "## Importing libraries"
   ]
  },
  {
   "cell_type": "code",
   "execution_count": null,
   "metadata": {
    "id": "DTUdxNDnv2wb"
   },
   "outputs": [],
   "source": [
    "import pandas as pd\n",
    "import numpy as np\n",
    "from tqdm import tqdm"
   ]
  },
  {
   "cell_type": "markdown",
   "metadata": {
    "id": "FmY5TNDFv2wd"
   },
   "source": [
    "### Read reviews data"
   ]
  },
  {
   "cell_type": "code",
   "execution_count": null,
   "metadata": {
    "id": "c8dObNbev2we"
   },
   "outputs": [],
   "source": [
    "con=open(\"../data/Samsung.txt\",'r', encoding=\"utf-8\")\n",
    "samsung_reviews=con.read()\n",
    "con.close()"
   ]
  },
  {
   "cell_type": "markdown",
   "metadata": {
    "id": "JjjtrCbJv2wf"
   },
   "source": [
    "<img src = \"./images/results.png\">"
   ]
  },
  {
   "cell_type": "markdown",
   "metadata": {
    "id": "FOQhbImWv2wf"
   },
   "source": [
    "<img src = \"./images/keywords.png\">"
   ]
  },
  {
   "cell_type": "markdown",
   "metadata": {
    "id": "o8NCJ4P0v2wg"
   },
   "source": [
    "### We can use a simple hueristic\n",
    " - Find out what were the most common words that appeared before and after each mention of `product feature`\n",
    " - Use regex pattern to extract this information"
   ]
  },
  {
   "cell_type": "code",
   "execution_count": null,
   "metadata": {
    "id": "KRhx9ESqv2wi"
   },
   "outputs": [],
   "source": [
    "import re\n",
    "s1 = \"The battery was great.\""
   ]
  },
  {
   "cell_type": "markdown",
   "metadata": {
    "id": "E-uvyEcpv2wj"
   },
   "source": [
    "The `battery` was ===> Prefix `keyword` Suffix"
   ]
  },
  {
   "cell_type": "markdown",
   "metadata": {
    "id": "Pc7aMQcfv2wk"
   },
   "source": [
    "<img src=\"./images/regex.png\">"
   ]
  },
  {
   "cell_type": "code",
   "execution_count": null,
   "metadata": {
    "id": "OHiP9iUIv2wl"
   },
   "outputs": [],
   "source": [
    "pattern = re.compile(\"\\w+\\sbattery\\s\\w+\")"
   ]
  },
  {
   "cell_type": "code",
   "execution_count": null,
   "metadata": {
    "id": "gc27nKndv2wl",
    "outputId": "b3d55d7c-66b2-4b5b-9679-8355deb9a956"
   },
   "outputs": [
    {
     "data": {
      "text/plain": [
       "['The battery was']"
      ]
     },
     "execution_count": 5,
     "metadata": {
      "tags": []
     },
     "output_type": "execute_result"
    }
   ],
   "source": [
    "re.findall(pattern,s1)"
   ]
  },
  {
   "cell_type": "code",
   "execution_count": null,
   "metadata": {
    "id": "mNpBQN76v2wo",
    "outputId": "c545b9ab-0f62-458b-ebe1-b6283f757674"
   },
   "outputs": [
    {
     "data": {
      "text/plain": [
       "'The battery was'"
      ]
     },
     "execution_count": 6,
     "metadata": {
      "tags": []
     },
     "output_type": "execute_result"
    }
   ],
   "source": [
    "re.findall(pattern,s1)[0]"
   ]
  },
  {
   "cell_type": "code",
   "execution_count": null,
   "metadata": {
    "id": "ykY2vGz8v2wp",
    "outputId": "12c309cc-97e0-421e-978e-bdf01ff19926"
   },
   "outputs": [
    {
     "data": {
      "text/plain": [
       "['The', 'battery', 'was']"
      ]
     },
     "execution_count": 7,
     "metadata": {
      "tags": []
     },
     "output_type": "execute_result"
    }
   ],
   "source": [
    "re.findall(pattern,s1)[0].split(\" \")"
   ]
  },
  {
   "cell_type": "code",
   "execution_count": null,
   "metadata": {
    "id": "QCIPRHiYv2wq",
    "outputId": "41ca811d-5796-4790-ca4e-0c42148c063c"
   },
   "outputs": [
    {
     "data": {
      "text/plain": [
       "'The'"
      ]
     },
     "execution_count": 8,
     "metadata": {
      "tags": []
     },
     "output_type": "execute_result"
    }
   ],
   "source": [
    "re.findall(pattern,s1)[0].split(\" \")[0] ## prefix"
   ]
  },
  {
   "cell_type": "code",
   "execution_count": null,
   "metadata": {
    "id": "N9uMLlr2v2wq",
    "outputId": "139a0e26-06f2-416a-9311-3186cbd05465"
   },
   "outputs": [
    {
     "data": {
      "text/plain": [
       "'was'"
      ]
     },
     "execution_count": 9,
     "metadata": {
      "tags": []
     },
     "output_type": "execute_result"
    }
   ],
   "source": [
    "re.findall(pattern,s1)[0].split(\" \")[-1] ## suffix"
   ]
  },
  {
   "cell_type": "markdown",
   "metadata": {
    "id": "xbWMeBh-v2wr"
   },
   "source": [
    "#### Extract all the prefixes and suffixes of `battery`"
   ]
  },
  {
   "cell_type": "code",
   "execution_count": null,
   "metadata": {
    "id": "IOpdwVCsv2ws"
   },
   "outputs": [],
   "source": [
    "prefixes_suffixes = re.findall(pattern,samsung_reviews)"
   ]
  },
  {
   "cell_type": "code",
   "execution_count": null,
   "metadata": {
    "id": "L8NnHP4-v2wt",
    "outputId": "c91263bd-2c45-4aa7-97bf-afe3fa4175d4"
   },
   "outputs": [
    {
     "data": {
      "text/plain": [
       "['that battery life',\n",
       " 'The battery was',\n",
       " 'great battery life',\n",
       " 'removable battery or',\n",
       " 'the battery in',\n",
       " 'The battery was',\n",
       " 'the battery is',\n",
       " 'Excellent battery life',\n",
       " 'the battery off',\n",
       " 'the battery goes']"
      ]
     },
     "execution_count": 11,
     "metadata": {
      "tags": []
     },
     "output_type": "execute_result"
    }
   ],
   "source": [
    "prefixes_suffixes[0:10]"
   ]
  },
  {
   "cell_type": "code",
   "execution_count": null,
   "metadata": {
    "id": "N0Qt0pAdv2wt",
    "outputId": "355df60d-f733-403b-a5c3-7ca3bd69dd35"
   },
   "outputs": [
    {
     "data": {
      "text/plain": [
       "['that', 'battery', 'life']"
      ]
     },
     "execution_count": 12,
     "metadata": {
      "tags": []
     },
     "output_type": "execute_result"
    }
   ],
   "source": [
    "prefixes_suffixes[0].split(\" \")"
   ]
  },
  {
   "cell_type": "code",
   "execution_count": null,
   "metadata": {
    "id": "PYmp4Sobv2wu"
   },
   "outputs": [],
   "source": [
    "prefixes = []\n",
    "suffixes = []\n",
    "for p in prefixes_suffixes:\n",
    "    l = p.split(\" \")\n",
    "    prefixes.append(l[0].lower())\n",
    "    suffixes.append(l[-1].lower())"
   ]
  },
  {
   "cell_type": "code",
   "execution_count": null,
   "metadata": {
    "id": "aQaV7j8Iv2wv",
    "outputId": "e6456148-fd0b-4d19-b987-ef4a1850ab18"
   },
   "outputs": [
    {
     "data": {
      "text/plain": [
       "the      1396\n",
       "good      122\n",
       "great      90\n",
       "and        82\n",
       "long       60\n",
       "dtype: int64"
      ]
     },
     "execution_count": 14,
     "metadata": {
      "tags": []
     },
     "output_type": "execute_result"
    }
   ],
   "source": [
    "pd.Series(prefixes).value_counts().head(5)"
   ]
  },
  {
   "cell_type": "code",
   "execution_count": null,
   "metadata": {
    "id": "BsR3F19Fv2ww",
    "outputId": "ed85be8e-e695-4018-f4ad-87057b18aeae"
   },
   "outputs": [
    {
     "data": {
      "text/plain": [
       "life     1052\n",
       "is        210\n",
       "and       146\n",
       "lasts      83\n",
       "was        66\n",
       "dtype: int64"
      ]
     },
     "execution_count": 15,
     "metadata": {
      "tags": []
     },
     "output_type": "execute_result"
    }
   ],
   "source": [
    "pd.Series(suffixes).value_counts().head(5)"
   ]
  },
  {
   "cell_type": "markdown",
   "metadata": {
    "id": "_4h1NcO6v2wx"
   },
   "source": [
    "### This doesn't make much sense as these are commonly used words. Let's remove `stopwords` and see what we get\n",
    "\n",
    "<a href = \"https://gist.github.com/sebleier/554280\">Get Stop Words</a>"
   ]
  },
  {
   "cell_type": "code",
   "execution_count": null,
   "metadata": {
    "id": "JQJUiZN1v2wx"
   },
   "outputs": [],
   "source": [
    "stop_words = [\"i\", \"me\", \"my\", \"myself\", \"we\", \"our\", \"ours\", \"ourselves\", \"you\", \"your\", \"yours\", \"yourself\", \"yourselves\", \"he\", \"him\", \"his\", \"himself\", \"she\", \"her\", \"hers\", \"herself\", \"it\", \"its\", \"itself\", \"they\", \"them\", \"their\", \"theirs\", \"themselves\", \"what\", \"which\", \"who\", \"whom\", \"this\", \"that\", \"these\", \"those\", \"am\", \"is\", \"are\", \"was\", \"were\", \"be\", \"been\", \"being\", \"have\", \"has\", \"had\", \"having\", \"do\", \"does\", \"did\", \"doing\", \"a\", \"an\", \"the\", \"and\", \"but\", \"if\", \"or\", \"because\", \"as\", \"until\", \"while\", \"of\", \"at\", \"by\", \"for\", \"with\", \"about\", \"against\", \"between\", \"into\", \"through\", \"during\", \"before\", \"after\", \"above\", \"below\", \"to\", \"from\", \"up\", \"down\", \"in\", \"out\", \"on\", \"off\", \"over\", \"under\", \"again\", \"further\", \"then\", \"once\", \"here\", \"there\", \"when\", \"where\", \"why\", \"how\", \"all\", \"any\", \"both\", \"each\", \"few\", \"more\", \"most\", \"other\", \"some\", \"such\", \"no\", \"nor\", \"not\", \"only\", \"own\", \"same\", \"so\", \"than\", \"too\", \"very\", \"s\", \"t\", \"can\", \"will\", \"just\", \"don\", \"should\", \"now\"]"
   ]
  },
  {
   "cell_type": "code",
   "execution_count": null,
   "metadata": {
    "id": "zI9upGvgv2wz"
   },
   "outputs": [],
   "source": [
    "prefixes = [p for p in prefixes if p not in stop_words]\n",
    "suffixes = [s for s in suffixes if s not in stop_words]"
   ]
  },
  {
   "cell_type": "code",
   "execution_count": null,
   "metadata": {
    "id": "6xRoSdX9v2wz",
    "outputId": "ccca747b-20d7-481f-c9de-9fafca5d737f"
   },
   "outputs": [
    {
     "data": {
      "text/plain": [
       "good         122\n",
       "great         90\n",
       "long          60\n",
       "new           51\n",
       "removable     48\n",
       "dtype: int64"
      ]
     },
     "execution_count": 18,
     "metadata": {
      "tags": []
     },
     "output_type": "execute_result"
    }
   ],
   "source": [
    "pd.Series(prefixes).value_counts().head(5)"
   ]
  },
  {
   "cell_type": "code",
   "execution_count": null,
   "metadata": {
    "id": "9tjoL9ZZv2w0",
    "outputId": "aba8adf9-fb2c-4d7d-95a4-f31e9d3470d9"
   },
   "outputs": [
    {
     "data": {
      "text/plain": [
       "life     1052\n",
       "lasts      83\n",
       "last       53\n",
       "doesn      40\n",
       "runs       31\n",
       "dtype: int64"
      ]
     },
     "execution_count": 19,
     "metadata": {
      "tags": []
     },
     "output_type": "execute_result"
    }
   ],
   "source": [
    "pd.Series(suffixes).value_counts().head(5)"
   ]
  },
  {
   "cell_type": "markdown",
   "metadata": {
    "id": "kwnOFruxv2w1"
   },
   "source": [
    "### Lets pretty print"
   ]
  },
  {
   "cell_type": "code",
   "execution_count": null,
   "metadata": {
    "id": "ksKd61Fyv2w1"
   },
   "outputs": [],
   "source": [
    "prefixes=pd.Series(prefixes).value_counts().head(5).index\n",
    "suffixes=pd.Series(suffixes).value_counts().head(5).index"
   ]
  },
  {
   "cell_type": "code",
   "execution_count": null,
   "metadata": {
    "id": "Coc3GtGqv2w2",
    "outputId": "3d1bed33-480e-40b9-e2c5-f7a34a49c16c"
   },
   "outputs": [
    {
     "data": {
      "text/html": [
       "<div>\n",
       "<style scoped>\n",
       "    .dataframe tbody tr th:only-of-type {\n",
       "        vertical-align: middle;\n",
       "    }\n",
       "\n",
       "    .dataframe tbody tr th {\n",
       "        vertical-align: top;\n",
       "    }\n",
       "\n",
       "    .dataframe thead th {\n",
       "        text-align: right;\n",
       "    }\n",
       "</style>\n",
       "<table border=\"1\" class=\"dataframe\">\n",
       "  <thead>\n",
       "    <tr style=\"text-align: right;\">\n",
       "      <th></th>\n",
       "      <th>prefixes</th>\n",
       "      <th>keyword</th>\n",
       "      <th>suffixes</th>\n",
       "    </tr>\n",
       "  </thead>\n",
       "  <tbody>\n",
       "    <tr>\n",
       "      <th>0</th>\n",
       "      <td>good</td>\n",
       "      <td>battery</td>\n",
       "      <td>life</td>\n",
       "    </tr>\n",
       "    <tr>\n",
       "      <th>1</th>\n",
       "      <td>great</td>\n",
       "      <td>battery</td>\n",
       "      <td>lasts</td>\n",
       "    </tr>\n",
       "    <tr>\n",
       "      <th>2</th>\n",
       "      <td>long</td>\n",
       "      <td>battery</td>\n",
       "      <td>last</td>\n",
       "    </tr>\n",
       "    <tr>\n",
       "      <th>3</th>\n",
       "      <td>new</td>\n",
       "      <td>battery</td>\n",
       "      <td>doesn</td>\n",
       "    </tr>\n",
       "    <tr>\n",
       "      <th>4</th>\n",
       "      <td>removable</td>\n",
       "      <td>battery</td>\n",
       "      <td>runs</td>\n",
       "    </tr>\n",
       "  </tbody>\n",
       "</table>\n",
       "</div>"
      ],
      "text/plain": [
       "    prefixes  keyword suffixes\n",
       "0       good  battery     life\n",
       "1      great  battery    lasts\n",
       "2       long  battery     last\n",
       "3        new  battery    doesn\n",
       "4  removable  battery     runs"
      ]
     },
     "execution_count": 21,
     "metadata": {
      "tags": []
     },
     "output_type": "execute_result"
    }
   ],
   "source": [
    "pd.DataFrame({'prefixes':prefixes,'keyword':['battery']*len(prefixes),'suffixes':suffixes})"
   ]
  },
  {
   "cell_type": "markdown",
   "metadata": {
    "id": "6y-7MjMUv2w3"
   },
   "source": [
    "### Lets put all this logic in a function"
   ]
  },
  {
   "cell_type": "code",
   "execution_count": null,
   "metadata": {
    "id": "zxi86ZU-v2w3"
   },
   "outputs": [],
   "source": [
    "def get_context(reviews,keyword):\n",
    "    pattern = re.compile(f\"\\w+\\s{keyword}\\s\\w+\")\n",
    "    prefixes_suffixes = re.findall(pattern,reviews)\n",
    "    prefixes = []\n",
    "    suffixes = []\n",
    "    for p in prefixes_suffixes:\n",
    "        l = p.split(\" \")\n",
    "        prefixes.append(l[0].lower())\n",
    "        suffixes.append(l[-1].lower())\n",
    "    prefixes = [p for p in prefixes if p not in stop_words]\n",
    "    suffixes = [s for s in suffixes if s not in stop_words]\n",
    "    prefixes=pd.Series(prefixes).value_counts().head(5).index\n",
    "    suffixes=pd.Series(suffixes).value_counts().head(5).index\n",
    "    return pd.DataFrame({'prefixes':prefixes,'keyword':[f'{keyword}']*len(prefixes),'suffixes':suffixes})"
   ]
  },
  {
   "cell_type": "code",
   "execution_count": null,
   "metadata": {
    "id": "HGfr7wpCv2w4",
    "outputId": "1543466e-d0ef-4ac2-a189-57c447fceb39"
   },
   "outputs": [
    {
     "data": {
      "text/html": [
       "<div>\n",
       "<style scoped>\n",
       "    .dataframe tbody tr th:only-of-type {\n",
       "        vertical-align: middle;\n",
       "    }\n",
       "\n",
       "    .dataframe tbody tr th {\n",
       "        vertical-align: top;\n",
       "    }\n",
       "\n",
       "    .dataframe thead th {\n",
       "        text-align: right;\n",
       "    }\n",
       "</style>\n",
       "<table border=\"1\" class=\"dataframe\">\n",
       "  <thead>\n",
       "    <tr style=\"text-align: right;\">\n",
       "      <th></th>\n",
       "      <th>prefixes</th>\n",
       "      <th>keyword</th>\n",
       "      <th>suffixes</th>\n",
       "    </tr>\n",
       "  </thead>\n",
       "  <tbody>\n",
       "    <tr>\n",
       "      <th>0</th>\n",
       "      <td>good</td>\n",
       "      <td>battery</td>\n",
       "      <td>life</td>\n",
       "    </tr>\n",
       "    <tr>\n",
       "      <th>1</th>\n",
       "      <td>great</td>\n",
       "      <td>battery</td>\n",
       "      <td>lasts</td>\n",
       "    </tr>\n",
       "    <tr>\n",
       "      <th>2</th>\n",
       "      <td>long</td>\n",
       "      <td>battery</td>\n",
       "      <td>last</td>\n",
       "    </tr>\n",
       "    <tr>\n",
       "      <th>3</th>\n",
       "      <td>new</td>\n",
       "      <td>battery</td>\n",
       "      <td>doesn</td>\n",
       "    </tr>\n",
       "    <tr>\n",
       "      <th>4</th>\n",
       "      <td>removable</td>\n",
       "      <td>battery</td>\n",
       "      <td>runs</td>\n",
       "    </tr>\n",
       "  </tbody>\n",
       "</table>\n",
       "</div>"
      ],
      "text/plain": [
       "    prefixes  keyword suffixes\n",
       "0       good  battery     life\n",
       "1      great  battery    lasts\n",
       "2       long  battery     last\n",
       "3        new  battery    doesn\n",
       "4  removable  battery     runs"
      ]
     },
     "execution_count": 23,
     "metadata": {
      "tags": []
     },
     "output_type": "execute_result"
    }
   ],
   "source": [
    "get_context(samsung_reviews,\"battery\")"
   ]
  },
  {
   "cell_type": "code",
   "execution_count": null,
   "metadata": {
    "id": "7hM31b61v2w5",
    "outputId": "f14fce27-d6d0-43f0-b8fd-7b688381599c"
   },
   "outputs": [
    {
     "data": {
      "text/html": [
       "<div>\n",
       "<style scoped>\n",
       "    .dataframe tbody tr th:only-of-type {\n",
       "        vertical-align: middle;\n",
       "    }\n",
       "\n",
       "    .dataframe tbody tr th {\n",
       "        vertical-align: top;\n",
       "    }\n",
       "\n",
       "    .dataframe thead th {\n",
       "        text-align: right;\n",
       "    }\n",
       "</style>\n",
       "<table border=\"1\" class=\"dataframe\">\n",
       "  <thead>\n",
       "    <tr style=\"text-align: right;\">\n",
       "      <th></th>\n",
       "      <th>prefixes</th>\n",
       "      <th>keyword</th>\n",
       "      <th>suffixes</th>\n",
       "    </tr>\n",
       "  </thead>\n",
       "  <tbody>\n",
       "    <tr>\n",
       "      <th>0</th>\n",
       "      <td>touch</td>\n",
       "      <td>screen</td>\n",
       "      <td>protector</td>\n",
       "    </tr>\n",
       "    <tr>\n",
       "      <th>1</th>\n",
       "      <td>big</td>\n",
       "      <td>screen</td>\n",
       "      <td>size</td>\n",
       "    </tr>\n",
       "    <tr>\n",
       "      <th>2</th>\n",
       "      <td>great</td>\n",
       "      <td>screen</td>\n",
       "      <td>resolution</td>\n",
       "    </tr>\n",
       "    <tr>\n",
       "      <th>3</th>\n",
       "      <td>large</td>\n",
       "      <td>screen</td>\n",
       "      <td>protectors</td>\n",
       "    </tr>\n",
       "    <tr>\n",
       "      <th>4</th>\n",
       "      <td>home</td>\n",
       "      <td>screen</td>\n",
       "      <td>quality</td>\n",
       "    </tr>\n",
       "  </tbody>\n",
       "</table>\n",
       "</div>"
      ],
      "text/plain": [
       "  prefixes keyword    suffixes\n",
       "0    touch  screen   protector\n",
       "1      big  screen        size\n",
       "2    great  screen  resolution\n",
       "3    large  screen  protectors\n",
       "4     home  screen     quality"
      ]
     },
     "execution_count": 24,
     "metadata": {
      "tags": []
     },
     "output_type": "execute_result"
    }
   ],
   "source": [
    "get_context(samsung_reviews,\"screen\")"
   ]
  },
  {
   "cell_type": "markdown",
   "metadata": {
    "id": "dLWZsuxjv2w6"
   },
   "source": [
    "## Summary:\n",
    "    - Simple hueristics sometime are very usefull\n",
    "    - Regex can be life saviours\n",
    "    - Don't forget to use simple text processing while trying to solve a non-trival problem"
   ]
  },
  {
   "cell_type": "code",
   "execution_count": null,
   "metadata": {
    "id": "2G4VXSNov2w7"
   },
   "outputs": [],
   "source": []
  }
 ],
 "metadata": {
  "colab": {
   "name": "POS4.ipynb.txt",
   "provenance": []
  },
  "kernelspec": {
   "display_name": "Python 3",
   "language": "python",
   "name": "python3"
  },
  "language_info": {
   "codemirror_mode": {
    "name": "ipython",
    "version": 3
   },
   "file_extension": ".py",
   "mimetype": "text/x-python",
   "name": "python",
   "nbconvert_exporter": "python",
   "pygments_lexer": "ipython3",
   "version": "3.8.5"
  }
 },
 "nbformat": 4,
 "nbformat_minor": 1
}
